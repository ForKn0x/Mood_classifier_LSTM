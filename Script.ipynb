{
 "cells": [
  {
   "cell_type": "code",
   "execution_count": 1,
   "id": "2730e4f7",
   "metadata": {},
   "outputs": [],
   "source": [
    "from tensorflow.keras.preprocessing.text import one_hot\n",
    "from tensorflow.keras.preprocessing.sequence import pad_sequences\n",
    "from tensorflow import keras\n",
    "\n",
    "import re \n",
    "import nltk\n",
    "from nltk.corpus import stopwords\n",
    "from nltk.stem import PorterStemmer\n",
    "\n",
    "import numpy as np\n",
    "import pandas as pd"
   ]
  },
  {
   "cell_type": "code",
   "execution_count": 2,
   "id": "4ca81f53",
   "metadata": {},
   "outputs": [],
   "source": [
    "test_data = pd.read_csv(\"data/test.txt\", header=None, sep=\";\", names=[\"Comment\",\"Emotion\"], encoding=\"utf-8\")\n",
    "train_data = pd.read_csv(\"data/train.txt\", header=None, sep=\";\", names=[\"Comment\",\"Emotion\"], encoding=\"utf-8\")\n",
    "validation_data = pd.read_csv(\"data/val.txt\", header=None, sep=\";\", names=[\"Comment\",\"Emotion\"], encoding=\"utf-8\")"
   ]
  },
  {
   "cell_type": "code",
   "execution_count": 3,
   "id": "13100f93",
   "metadata": {},
   "outputs": [],
   "source": [
    "from sklearn.model_selection import train_test_split\n",
    "from sklearn.metrics import confusion_matrix,classification_report,accuracy_score\n",
    "from sklearn.preprocessing import LabelEncoder"
   ]
  },
  {
   "cell_type": "code",
   "execution_count": 4,
   "id": "4ae65de6",
   "metadata": {},
   "outputs": [],
   "source": [
    "lb = LabelEncoder()\n",
    "train_data['Emotion'] = lb.fit_transform(train_data['Emotion'])\n",
    "test_data['Emotion'] = lb.fit_transform(test_data['Emotion'])\n",
    "validation_data['Emotion'] = lb.fit_transform(validation_data['Emotion'])"
   ]
  },
  {
   "cell_type": "code",
   "execution_count": 5,
   "id": "5c4b8f7b",
   "metadata": {},
   "outputs": [
    {
     "name": "stderr",
     "output_type": "stream",
     "text": [
      "[nltk_data] Downloading package stopwords to\n",
      "[nltk_data]     C:\\Users\\sauga_g\\AppData\\Roaming\\nltk_data...\n",
      "[nltk_data]   Package stopwords is already up-to-date!\n"
     ]
    }
   ],
   "source": [
    "nltk.download('stopwords')\n",
    "stopwords = set(nltk.corpus.stopwords.words('english'))"
   ]
  },
  {
   "cell_type": "code",
   "execution_count": 6,
   "id": "511472b1",
   "metadata": {},
   "outputs": [],
   "source": [
    "train_data['length'] = [len(comment) for comment in train_data['Comment']]\n",
    "\n",
    "vocab_size = 10000\n",
    "max_len=train_data['length'].max()"
   ]
  },
  {
   "cell_type": "code",
   "execution_count": 7,
   "id": "aeda8dce",
   "metadata": {},
   "outputs": [],
   "source": [
    "model = keras.models.load_model('model.h5')"
   ]
  },
  {
   "cell_type": "code",
   "execution_count": 8,
   "id": "a763869b",
   "metadata": {},
   "outputs": [],
   "source": [
    "def sentence_cleaning(sentence):\n",
    "    \"\"\"Pre-processing sentence for prediction\"\"\"\n",
    "    stemmer = PorterStemmer()\n",
    "    corpus = []\n",
    "    text = re.sub(\"[^a-zA-Z]\", \" \", sentence)\n",
    "    text = text.lower()\n",
    "    text = text.split()\n",
    "    text = [stemmer.stem(word) for word in text if word not in stopwords]\n",
    "    text = \" \".join(text)\n",
    "    corpus.append(text)\n",
    "    one_hot_word = [one_hot(input_text=word, n=vocab_size) for word in corpus]\n",
    "    pad = pad_sequences(sequences=one_hot_word,maxlen=max_len,padding='pre')\n",
    "    return pad"
   ]
  },
  {
   "cell_type": "code",
   "execution_count": 9,
   "id": "f3ac2ed4",
   "metadata": {},
   "outputs": [],
   "source": [
    "def getEmotion(sentence):\n",
    "    sentence = sentence_cleaning(sentence)\n",
    "    result = lb.inverse_transform(np.argmax(model.predict(sentence), axis=-1))[0]\n",
    "    return result"
   ]
  },
  {
   "cell_type": "code",
   "execution_count": 10,
   "id": "384a41c3",
   "metadata": {},
   "outputs": [],
   "source": [
    "def getDict(sentence):\n",
    "    sentence = sentence_cleaning(sentence)\n",
    "    labels = lb.inverse_transform([0,1,2,3,4,5])\n",
    "    final_dir = dict(zip(labels,model.predict(sentence)[0]))\n",
    "    return final_dir"
   ]
  },
  {
   "cell_type": "code",
   "execution_count": 15,
   "id": "b149911f",
   "metadata": {},
   "outputs": [
    {
     "data": {
      "text/plain": [
       "'love'"
      ]
     },
     "execution_count": 15,
     "metadata": {},
     "output_type": "execute_result"
    }
   ],
   "source": [
    "getEmotion('she is really sweet and caring')"
   ]
  },
  {
   "cell_type": "code",
   "execution_count": null,
   "id": "1535ca62",
   "metadata": {},
   "outputs": [],
   "source": []
  }
 ],
 "metadata": {
  "kernelspec": {
   "display_name": "Python 3",
   "language": "python",
   "name": "python3"
  },
  "language_info": {
   "codemirror_mode": {
    "name": "ipython",
    "version": 3
   },
   "file_extension": ".py",
   "mimetype": "text/x-python",
   "name": "python",
   "nbconvert_exporter": "python",
   "pygments_lexer": "ipython3",
   "version": "3.8.8"
  }
 },
 "nbformat": 4,
 "nbformat_minor": 5
}
