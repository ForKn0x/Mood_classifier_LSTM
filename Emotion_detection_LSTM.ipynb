{
 "cells": [
  {
   "cell_type": "code",
   "execution_count": 1,
   "id": "d6bf3b0c",
   "metadata": {},
   "outputs": [],
   "source": [
    "import numpy as np \n",
    "import pandas as pd\n",
    "import os\n",
    "import matplotlib.pyplot as plt\n",
    "import seaborn as sns"
   ]
  },
  {
   "cell_type": "code",
   "execution_count": 2,
   "id": "62396125",
   "metadata": {},
   "outputs": [],
   "source": [
    "from tensorflow.keras.utils import to_categorical\n",
    "from tensorflow.keras.preprocessing.text import Tokenizer\n",
    "\n",
    "from tensorflow.keras.optimizers import Adam\n",
    "from tensorflow.keras.models import Sequential\n",
    "from tensorflow.keras.callbacks import EarlyStopping\n",
    "from tensorflow.keras.layers import Dense, LSTM, Embedding, Bidirectional,Dropout\n",
    "\n",
    "from tensorflow.keras.preprocessing.text import one_hot\n",
    "from tensorflow.keras.preprocessing.sequence import pad_sequences\n",
    "\n",
    "import re \n",
    "import nltk\n",
    "from nltk.corpus import stopwords\n",
    "from nltk.stem import PorterStemmer\n",
    "from keras.backend import manual_variable_initialization \n",
    "\n",
    "manual_variable_initialization(True)"
   ]
  },
  {
   "cell_type": "code",
   "execution_count": 3,
   "id": "3f599bfe",
   "metadata": {},
   "outputs": [],
   "source": [
    "test_data = pd.read_csv(\"data/test.txt\", header=None, sep=\";\", names=[\"Comment\",\"Emotion\"], encoding=\"utf-8\")\n",
    "train_data = pd.read_csv(\"data/train.txt\", header=None, sep=\";\", names=[\"Comment\",\"Emotion\"], encoding=\"utf-8\")\n",
    "validation_data = pd.read_csv(\"data/val.txt\", header=None, sep=\";\", names=[\"Comment\",\"Emotion\"], encoding=\"utf-8\")"
   ]
  },
  {
   "cell_type": "code",
   "execution_count": 4,
   "id": "00da48ba",
   "metadata": {},
   "outputs": [
    {
     "data": {
      "text/html": [
       "<div>\n",
       "<style scoped>\n",
       "    .dataframe tbody tr th:only-of-type {\n",
       "        vertical-align: middle;\n",
       "    }\n",
       "\n",
       "    .dataframe tbody tr th {\n",
       "        vertical-align: top;\n",
       "    }\n",
       "\n",
       "    .dataframe thead th {\n",
       "        text-align: right;\n",
       "    }\n",
       "</style>\n",
       "<table border=\"1\" class=\"dataframe\">\n",
       "  <thead>\n",
       "    <tr style=\"text-align: right;\">\n",
       "      <th></th>\n",
       "      <th>Comment</th>\n",
       "      <th>Emotion</th>\n",
       "    </tr>\n",
       "  </thead>\n",
       "  <tbody>\n",
       "    <tr>\n",
       "      <th>0</th>\n",
       "      <td>im feeling rather rotten so im not very ambiti...</td>\n",
       "      <td>sadness</td>\n",
       "    </tr>\n",
       "    <tr>\n",
       "      <th>1</th>\n",
       "      <td>im updating my blog because i feel shitty</td>\n",
       "      <td>sadness</td>\n",
       "    </tr>\n",
       "    <tr>\n",
       "      <th>2</th>\n",
       "      <td>i never make her separate from me because i do...</td>\n",
       "      <td>sadness</td>\n",
       "    </tr>\n",
       "    <tr>\n",
       "      <th>3</th>\n",
       "      <td>i left with my bouquet of red and yellow tulip...</td>\n",
       "      <td>joy</td>\n",
       "    </tr>\n",
       "    <tr>\n",
       "      <th>4</th>\n",
       "      <td>i was feeling a little vain when i did this one</td>\n",
       "      <td>sadness</td>\n",
       "    </tr>\n",
       "  </tbody>\n",
       "</table>\n",
       "</div>"
      ],
      "text/plain": [
       "                                             Comment  Emotion\n",
       "0  im feeling rather rotten so im not very ambiti...  sadness\n",
       "1          im updating my blog because i feel shitty  sadness\n",
       "2  i never make her separate from me because i do...  sadness\n",
       "3  i left with my bouquet of red and yellow tulip...      joy\n",
       "4    i was feeling a little vain when i did this one  sadness"
      ]
     },
     "execution_count": 4,
     "metadata": {},
     "output_type": "execute_result"
    }
   ],
   "source": [
    "test_data.head()"
   ]
  },
  {
   "cell_type": "code",
   "execution_count": 5,
   "id": "0a8755f7",
   "metadata": {},
   "outputs": [
    {
     "data": {
      "text/plain": [
       "(2000, 2)"
      ]
     },
     "execution_count": 5,
     "metadata": {},
     "output_type": "execute_result"
    }
   ],
   "source": [
    "test_data.shape"
   ]
  },
  {
   "cell_type": "code",
   "execution_count": 6,
   "id": "5cac28b4",
   "metadata": {},
   "outputs": [
    {
     "data": {
      "text/plain": [
       "(16000, 2)"
      ]
     },
     "execution_count": 6,
     "metadata": {},
     "output_type": "execute_result"
    }
   ],
   "source": [
    "train_data.shape"
   ]
  },
  {
   "cell_type": "code",
   "execution_count": 7,
   "id": "33a0624a",
   "metadata": {},
   "outputs": [
    {
     "data": {
      "text/plain": [
       "(2000, 2)"
      ]
     },
     "execution_count": 7,
     "metadata": {},
     "output_type": "execute_result"
    }
   ],
   "source": [
    "validation_data.shape"
   ]
  },
  {
   "cell_type": "code",
   "execution_count": 8,
   "id": "4f86700f",
   "metadata": {},
   "outputs": [
    {
     "data": {
      "text/html": [
       "<div>\n",
       "<style scoped>\n",
       "    .dataframe tbody tr th:only-of-type {\n",
       "        vertical-align: middle;\n",
       "    }\n",
       "\n",
       "    .dataframe tbody tr th {\n",
       "        vertical-align: top;\n",
       "    }\n",
       "\n",
       "    .dataframe thead th {\n",
       "        text-align: right;\n",
       "    }\n",
       "</style>\n",
       "<table border=\"1\" class=\"dataframe\">\n",
       "  <thead>\n",
       "    <tr style=\"text-align: right;\">\n",
       "      <th></th>\n",
       "      <th>Comment</th>\n",
       "      <th>Emotion</th>\n",
       "      <th>length</th>\n",
       "    </tr>\n",
       "  </thead>\n",
       "  <tbody>\n",
       "    <tr>\n",
       "      <th>0</th>\n",
       "      <td>i didnt feel humiliated</td>\n",
       "      <td>sadness</td>\n",
       "      <td>23</td>\n",
       "    </tr>\n",
       "    <tr>\n",
       "      <th>1</th>\n",
       "      <td>i can go from feeling so hopeless to so damned...</td>\n",
       "      <td>sadness</td>\n",
       "      <td>108</td>\n",
       "    </tr>\n",
       "    <tr>\n",
       "      <th>2</th>\n",
       "      <td>im grabbing a minute to post i feel greedy wrong</td>\n",
       "      <td>anger</td>\n",
       "      <td>48</td>\n",
       "    </tr>\n",
       "    <tr>\n",
       "      <th>3</th>\n",
       "      <td>i am ever feeling nostalgic about the fireplac...</td>\n",
       "      <td>love</td>\n",
       "      <td>92</td>\n",
       "    </tr>\n",
       "    <tr>\n",
       "      <th>4</th>\n",
       "      <td>i am feeling grouchy</td>\n",
       "      <td>anger</td>\n",
       "      <td>20</td>\n",
       "    </tr>\n",
       "  </tbody>\n",
       "</table>\n",
       "</div>"
      ],
      "text/plain": [
       "                                             Comment  Emotion  length\n",
       "0                            i didnt feel humiliated  sadness      23\n",
       "1  i can go from feeling so hopeless to so damned...  sadness     108\n",
       "2   im grabbing a minute to post i feel greedy wrong    anger      48\n",
       "3  i am ever feeling nostalgic about the fireplac...     love      92\n",
       "4                               i am feeling grouchy    anger      20"
      ]
     },
     "execution_count": 8,
     "metadata": {},
     "output_type": "execute_result"
    }
   ],
   "source": [
    "# determine lenth of comment\n",
    "train_data['length'] = [len(comment) for comment in train_data['Comment']]\n",
    "train_data.head()"
   ]
  },
  {
   "cell_type": "code",
   "execution_count": 9,
   "id": "8c3ab495",
   "metadata": {},
   "outputs": [
    {
     "data": {
      "text/plain": [
       "array(['sadness', 'anger', 'love', 'surprise', 'fear', 'joy'],\n",
       "      dtype=object)"
      ]
     },
     "execution_count": 9,
     "metadata": {},
     "output_type": "execute_result"
    }
   ],
   "source": [
    "emotions_list = train_data['Emotion'].unique()\n",
    "emotions_list"
   ]
  },
  {
   "cell_type": "markdown",
   "id": "a275bb73",
   "metadata": {},
   "source": [
    "# Data Preprocessing"
   ]
  },
  {
   "cell_type": "code",
   "execution_count": 10,
   "id": "fd388817",
   "metadata": {},
   "outputs": [],
   "source": [
    "from sklearn.model_selection import train_test_split\n",
    "from sklearn.metrics import confusion_matrix,classification_report,accuracy_score\n",
    "from sklearn.preprocessing import LabelEncoder"
   ]
  },
  {
   "cell_type": "code",
   "execution_count": 11,
   "id": "66c21c60",
   "metadata": {},
   "outputs": [],
   "source": [
    "#Representating emotions with int\n",
    "lb = LabelEncoder()\n",
    "train_data['Emotion'] = lb.fit_transform(train_data['Emotion'])\n",
    "test_data['Emotion'] = lb.fit_transform(test_data['Emotion'])\n",
    "validation_data['Emotion'] = lb.fit_transform(validation_data['Emotion'])"
   ]
  },
  {
   "cell_type": "code",
   "execution_count": 12,
   "id": "d02d840f",
   "metadata": {},
   "outputs": [
    {
     "data": {
      "text/html": [
       "<div>\n",
       "<style scoped>\n",
       "    .dataframe tbody tr th:only-of-type {\n",
       "        vertical-align: middle;\n",
       "    }\n",
       "\n",
       "    .dataframe tbody tr th {\n",
       "        vertical-align: top;\n",
       "    }\n",
       "\n",
       "    .dataframe thead th {\n",
       "        text-align: right;\n",
       "    }\n",
       "</style>\n",
       "<table border=\"1\" class=\"dataframe\">\n",
       "  <thead>\n",
       "    <tr style=\"text-align: right;\">\n",
       "      <th></th>\n",
       "      <th>Comment</th>\n",
       "      <th>Emotion</th>\n",
       "      <th>length</th>\n",
       "    </tr>\n",
       "  </thead>\n",
       "  <tbody>\n",
       "    <tr>\n",
       "      <th>0</th>\n",
       "      <td>i didnt feel humiliated</td>\n",
       "      <td>4</td>\n",
       "      <td>23</td>\n",
       "    </tr>\n",
       "    <tr>\n",
       "      <th>1</th>\n",
       "      <td>i can go from feeling so hopeless to so damned...</td>\n",
       "      <td>4</td>\n",
       "      <td>108</td>\n",
       "    </tr>\n",
       "    <tr>\n",
       "      <th>2</th>\n",
       "      <td>im grabbing a minute to post i feel greedy wrong</td>\n",
       "      <td>0</td>\n",
       "      <td>48</td>\n",
       "    </tr>\n",
       "    <tr>\n",
       "      <th>3</th>\n",
       "      <td>i am ever feeling nostalgic about the fireplac...</td>\n",
       "      <td>3</td>\n",
       "      <td>92</td>\n",
       "    </tr>\n",
       "    <tr>\n",
       "      <th>4</th>\n",
       "      <td>i am feeling grouchy</td>\n",
       "      <td>0</td>\n",
       "      <td>20</td>\n",
       "    </tr>\n",
       "  </tbody>\n",
       "</table>\n",
       "</div>"
      ],
      "text/plain": [
       "                                             Comment  Emotion  length\n",
       "0                            i didnt feel humiliated        4      23\n",
       "1  i can go from feeling so hopeless to so damned...        4     108\n",
       "2   im grabbing a minute to post i feel greedy wrong        0      48\n",
       "3  i am ever feeling nostalgic about the fireplac...        3      92\n",
       "4                               i am feeling grouchy        0      20"
      ]
     },
     "execution_count": 12,
     "metadata": {},
     "output_type": "execute_result"
    }
   ],
   "source": [
    "train_data.head()"
   ]
  },
  {
   "cell_type": "code",
   "execution_count": 13,
   "id": "bbd1291d",
   "metadata": {},
   "outputs": [
    {
     "name": "stderr",
     "output_type": "stream",
     "text": [
      "[nltk_data] Downloading package stopwords to\n",
      "[nltk_data]     C:\\Users\\sauga_g\\AppData\\Roaming\\nltk_data...\n",
      "[nltk_data]   Package stopwords is already up-to-date!\n"
     ]
    }
   ],
   "source": [
    "nltk.download('stopwords')\n",
    "stopwords = set(nltk.corpus.stopwords.words('english'))"
   ]
  },
  {
   "cell_type": "code",
   "execution_count": 14,
   "id": "1df70ebf",
   "metadata": {},
   "outputs": [
    {
     "data": {
      "text/plain": [
       "300"
      ]
     },
     "execution_count": 14,
     "metadata": {},
     "output_type": "execute_result"
    }
   ],
   "source": [
    "vocab_size = 10000\n",
    "max_len=train_data['length'].max()\n",
    "max_len"
   ]
  },
  {
   "cell_type": "code",
   "execution_count": 15,
   "id": "601d3156",
   "metadata": {},
   "outputs": [],
   "source": [
    "def text_prepare(data, column):\n",
    "    print('Before:')\n",
    "    print(data.shape)\n",
    "    stemmer = PorterStemmer()\n",
    "    corpus = []\n",
    "    \n",
    "    for text in data[column]:\n",
    "        text = re.sub(\"[^a-zA-Z]\", \" \", text)\n",
    "        \n",
    "        text = text.lower()\n",
    "        text = text.split()\n",
    "        \n",
    "        text = [stemmer.stem(word) for word in text if word not in stopwords]\n",
    "        text = \" \".join(text)\n",
    "        \n",
    "        corpus.append(text)\n",
    "    one_hot_word = [one_hot(input_text=word, n=vocab_size) for word in corpus]\n",
    "    embeddec_doc = pad_sequences(sequences=one_hot_word,\n",
    "                              maxlen=max_len,\n",
    "                              padding=\"pre\")\n",
    "    print('After:')\n",
    "    print(data.shape)\n",
    "    return embeddec_doc"
   ]
  },
  {
   "cell_type": "code",
   "execution_count": 16,
   "id": "3d25a11c",
   "metadata": {},
   "outputs": [
    {
     "name": "stdout",
     "output_type": "stream",
     "text": [
      "Before:\n",
      "(16000, 3)\n",
      "After:\n",
      "(16000, 3)\n",
      "Before:\n",
      "(2000, 2)\n",
      "After:\n",
      "(2000, 2)\n",
      "Before:\n",
      "(2000, 2)\n",
      "After:\n",
      "(2000, 2)\n"
     ]
    }
   ],
   "source": [
    "x_train = text_prepare(train_data, \"Comment\")\n",
    "x_test = text_prepare(test_data, \"Comment\")\n",
    "x_val = text_prepare(validation_data, \"Comment\")"
   ]
  },
  {
   "cell_type": "code",
   "execution_count": 17,
   "id": "233a634b",
   "metadata": {},
   "outputs": [],
   "source": [
    "y_train = train_data[\"Emotion\"]\n",
    "y_test = test_data[\"Emotion\"]\n",
    "y_val = validation_data[\"Emotion\"]"
   ]
  },
  {
   "cell_type": "code",
   "execution_count": 18,
   "id": "2be6a8c8",
   "metadata": {},
   "outputs": [],
   "source": [
    "y_train = to_categorical(y_train)\n",
    "y_test = to_categorical(y_test)\n",
    "y_val = to_categorical(y_val)"
   ]
  },
  {
   "cell_type": "markdown",
   "id": "f6718403",
   "metadata": {},
   "source": [
    "# Model Building"
   ]
  },
  {
   "cell_type": "code",
   "execution_count": 19,
   "id": "b3a24fe5",
   "metadata": {},
   "outputs": [],
   "source": [
    "model = Sequential()\n",
    "model.add(Embedding(input_dim=vocab_size,output_dim=150,input_length=300))\n",
    "model.add(Dropout(0.2))\n",
    "model.add(LSTM(128))\n",
    "model.add(Dropout(0.2))\n",
    "model.add(Dense(64,activation='sigmoid'))\n",
    "model.add(Dropout(0.2))\n",
    "model.add(Dense(6,activation='softmax'))"
   ]
  },
  {
   "cell_type": "code",
   "execution_count": 20,
   "id": "210056c4",
   "metadata": {},
   "outputs": [
    {
     "name": "stdout",
     "output_type": "stream",
     "text": [
      "Model: \"sequential\"\n",
      "_________________________________________________________________\n",
      " Layer (type)                Output Shape              Param #   \n",
      "=================================================================\n",
      " embedding (Embedding)       (None, 300, 150)          1500000   \n",
      "                                                                 \n",
      " dropout (Dropout)           (None, 300, 150)          0         \n",
      "                                                                 \n",
      " lstm (LSTM)                 (None, 128)               142848    \n",
      "                                                                 \n",
      " dropout_1 (Dropout)         (None, 128)               0         \n",
      "                                                                 \n",
      " dense (Dense)               (None, 64)                8256      \n",
      "                                                                 \n",
      " dropout_2 (Dropout)         (None, 64)                0         \n",
      "                                                                 \n",
      " dense_1 (Dense)             (None, 6)                 390       \n",
      "                                                                 \n",
      "=================================================================\n",
      "Total params: 1,651,494\n",
      "Trainable params: 1,651,494\n",
      "Non-trainable params: 0\n",
      "_________________________________________________________________\n"
     ]
    }
   ],
   "source": [
    "model.compile(optimizer='adam',loss='categorical_crossentropy',metrics=['accuracy'])\n",
    "model.summary()"
   ]
  },
  {
   "cell_type": "code",
   "execution_count": 21,
   "id": "2bc0eeae",
   "metadata": {},
   "outputs": [],
   "source": [
    "callback = EarlyStopping(monitor=\"val_loss\", patience=2, restore_best_weights=True)"
   ]
  },
  {
   "cell_type": "code",
   "execution_count": 22,
   "id": "7a7c06a5",
   "metadata": {},
   "outputs": [
    {
     "name": "stdout",
     "output_type": "stream",
     "text": [
      "Epoch 1/10\n",
      "250/250 [==============================] - 88s 347ms/step - loss: 1.4603 - accuracy: 0.4244 - val_loss: 0.9273 - val_accuracy: 0.6965\n",
      "Epoch 2/10\n",
      "250/250 [==============================] - 102s 407ms/step - loss: 0.6564 - accuracy: 0.7818 - val_loss: 0.4524 - val_accuracy: 0.8335\n",
      "Epoch 3/10\n",
      "250/250 [==============================] - 103s 413ms/step - loss: 0.3353 - accuracy: 0.8884 - val_loss: 0.3602 - val_accuracy: 0.8790\n",
      "Epoch 4/10\n",
      "250/250 [==============================] - 100s 400ms/step - loss: 0.2258 - accuracy: 0.9251 - val_loss: 0.3305 - val_accuracy: 0.8870\n",
      "Epoch 5/10\n",
      "250/250 [==============================] - 102s 408ms/step - loss: 0.1707 - accuracy: 0.9448 - val_loss: 0.3313 - val_accuracy: 0.8965\n",
      "Epoch 6/10\n",
      "250/250 [==============================] - 104s 415ms/step - loss: 0.1339 - accuracy: 0.9555 - val_loss: 0.3591 - val_accuracy: 0.8855\n"
     ]
    }
   ],
   "source": [
    "hist = model.fit(x_train,y_train,epochs=10,batch_size=64,\n",
    "                 validation_data=(x_val,y_val), verbose=1, callbacks=[callback])"
   ]
  },
  {
   "cell_type": "markdown",
   "id": "8cc13680",
   "metadata": {},
   "source": [
    "# Evaluation"
   ]
  },
  {
   "cell_type": "code",
   "execution_count": 23,
   "id": "db9bd35d",
   "metadata": {},
   "outputs": [
    {
     "name": "stdout",
     "output_type": "stream",
     "text": [
      "63/63 [==============================] - 3s 53ms/step - loss: 0.3783 - accuracy: 0.8725\n"
     ]
    },
    {
     "data": {
      "text/plain": [
       "[0.37831729650497437, 0.8725000023841858]"
      ]
     },
     "execution_count": 23,
     "metadata": {},
     "output_type": "execute_result"
    }
   ],
   "source": [
    "model.evaluate(x_test,y_test,verbose=1)"
   ]
  },
  {
   "cell_type": "code",
   "execution_count": 24,
   "id": "10dea232",
   "metadata": {},
   "outputs": [
    {
     "data": {
      "image/png": "[encoded data removed]",
      "text/plain": [
       "<Figure size 432x288 with 1 Axes>"
      ]
     },
     "metadata": {
      "needs_background": "light"
     },
     "output_type": "display_data"
    },
    {
     "data": {
      "image/png": "[encoded data removed]",
      "text/plain": [
       "<Figure size 432x288 with 1 Axes>"
      ]
     },
     "metadata": {
      "needs_background": "light"
     },
     "output_type": "display_data"
    }
   ],
   "source": [
    "accuracy = hist.history['accuracy']\n",
    "val_acc = hist.history['val_accuracy']\n",
    "loss=hist.history['loss']\n",
    "val_loss=hist.history['val_loss']\n",
    "epochs=range(len(accuracy))\n",
    "\n",
    "plt.plot(epochs,accuracy,'b', label='Training accuracy')\n",
    "plt.plot(epochs,val_acc,'r', label='Validation accuracy')\n",
    "plt.title('Training and validation accuracy')\n",
    "plt.legend()\n",
    "plt.figure()\n",
    "\n",
    "plt.plot(epochs,loss,'b', label='Training loss')\n",
    "plt.plot(epochs,val_loss,'r', label='Validation loss')\n",
    "plt.title('Training and validation loss')\n",
    "plt.legend()\n",
    "\n",
    "plt.show()"
   ]
  },
  {
   "cell_type": "markdown",
   "id": "dfd417cf",
   "metadata": {},
   "source": [
    "### Saving model"
   ]
  },
  {
   "cell_type": "code",
   "execution_count": 42,
   "id": "dfbbf1c4",
   "metadata": {},
   "outputs": [],
   "source": [
    "model.save('model.h5')"
   ]
  },
  {
   "cell_type": "markdown",
   "id": "db4e3ce7",
   "metadata": {},
   "source": [
    "# Making Predictions"
   ]
  },
  {
   "cell_type": "markdown",
   "id": "cb7f1e03",
   "metadata": {},
   "source": [
    "#### Cleaning provided input"
   ]
  },
  {
   "cell_type": "code",
   "execution_count": 26,
   "id": "9592f14a",
   "metadata": {},
   "outputs": [],
   "source": [
    "def sentence_cleaning(sentence):\n",
    "    \"\"\"Pre-processing sentence for prediction\"\"\"\n",
    "    stemmer = PorterStemmer()\n",
    "    corpus = []\n",
    "    text = re.sub(\"[^a-zA-Z]\", \" \", sentence)\n",
    "    text = text.lower()\n",
    "    text = text.split()\n",
    "    text = [stemmer.stem(word) for word in text if word not in stopwords]\n",
    "    text = \" \".join(text)\n",
    "    corpus.append(text)\n",
    "    one_hot_word = [one_hot(input_text=word, n=vocab_size) for word in corpus]\n",
    "    pad = pad_sequences(sequences=one_hot_word,maxlen=max_len,padding='pre')\n",
    "    return pad"
   ]
  },
  {
   "cell_type": "markdown",
   "id": "1a745922",
   "metadata": {},
   "source": [
    "#### Returns dictonary with probability values"
   ]
  },
  {
   "cell_type": "code",
   "execution_count": 27,
   "id": "09ba2756",
   "metadata": {},
   "outputs": [],
   "source": [
    "def getDict(sentence):\n",
    "    sentence = sentence_cleaning(sentence)\n",
    "    labels = lb.inverse_transform([0,1,2,3,4,5])\n",
    "    final_dir = dict(zip(labels,model.predict(sentence)[0]))\n",
    "    return final_dir\n",
    "    \n",
    "    \n",
    "    "
   ]
  },
  {
   "cell_type": "markdown",
   "id": "d37beee0",
   "metadata": {},
   "source": [
    "#### Return Predicted Emotions"
   ]
  },
  {
   "cell_type": "code",
   "execution_count": 38,
   "id": "2145425e",
   "metadata": {},
   "outputs": [],
   "source": [
    "def getEmotion(sentence):\n",
    "    sentence = sentence_cleaning(sentence)\n",
    "    result = lb.inverse_transform(np.argmax(model2.predict(sentence), axis=-1))[0]\n",
    "    return result"
   ]
  },
  {
   "cell_type": "code",
   "execution_count": 39,
   "id": "b8de3952",
   "metadata": {},
   "outputs": [
    {
     "data": {
      "text/plain": [
       "'love'"
      ]
     },
     "execution_count": 39,
     "metadata": {},
     "output_type": "execute_result"
    }
   ],
   "source": [
    "getEmotion('e is really sweet and caring')"
   ]
  },
  {
   "cell_type": "code",
   "execution_count": null,
   "id": "26102cf1",
   "metadata": {},
   "outputs": [],
   "source": []
  }
 ],
 "metadata": {
  "kernelspec": {
   "display_name": "Python 3",
   "language": "python",
   "name": "python3"
  },
  "language_info": {
   "codemirror_mode": {
    "name": "ipython",
    "version": 3
   },
   "file_extension": ".py",
   "mimetype": "text/x-python",
   "name": "python",
   "nbconvert_exporter": "python",
   "pygments_lexer": "ipython3",
   "version": "3.8.8"
  }
 },
 "nbformat": 4,
 "nbformat_minor": 5
}
